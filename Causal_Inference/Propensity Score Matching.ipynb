{
 "cells": [
  {
   "cell_type": "code",
   "execution_count": null,
   "metadata": {
    "collapsed": true
   },
   "outputs": [],
   "source": []
  },
  {
   "cell_type": "markdown",
   "source": [
    "# Overview\n",
    "\n",
    "Propensity score matching attempts to account for covariates that predict recieving the treatment. bias arises because a difference in treatment outcome may be cause by a factor that predicts treatment rather than the treatment itself. In randomized experiments randomization enables unbiased estimation of treatment effects because by law of large numbers treatment groups are balanced on average.\n",
    "EG smoking leads to cancer could just comparing those that smoke and dont is biased by factor that predict smoking E.g gender, age.\n",
    "\n",
    "matching attempts to mimic randomization by creating a sample of units that received the treatment that is comparable on observed covariates to a sample that did not recieve the treatment"
   ],
   "metadata": {
    "collapsed": false,
    "pycharm": {
     "name": "#%% md\n"
    }
   }
  },
  {
   "cell_type": "markdown",
   "source": [
    "Suppose you have a binary treatment variable $Z_i$ for subject $i$ a vector of covariates $x_i$ where observations are made prior to treatment assignments and ay include all of the ones used to decide on treatment assignment"
   ],
   "metadata": {
    "collapsed": false
   }
  },
  {
   "cell_type": "markdown",
   "source": [
    "# Ignorability\n",
    "\n",
    "let subject have vector of covariates $X$ and some potential outcomes $r_0,r_1$ under control and treatment.\n",
    "treatment is strongly ignorable if potential outcomes are independent of treatment $Z$ conditional on background variables\n",
    "\n",
    "$$r_0,r_1 \\perp Z|X$$"
   ],
   "metadata": {
    "collapsed": false
   }
  },
  {
   "cell_type": "markdown",
   "source": [
    "# Balancing Score\n",
    "\n",
    "A balancing score $b(X)$ is a function of observed covariates $X$ such that conditional distribution of $X$ given $b(X)$\n",
    "is the same for treatment and control.\n",
    "\n",
    "$$Z\\perp X|b(x)$$"
   ],
   "metadata": {
    "collapsed": false
   }
  },
  {
   "cell_type": "markdown",
   "source": [
    "# Propensity Score\n",
    "\n",
    "A propensity score is the probability of a unit being assigned to a particular treatment\n",
    "given a set of observed covariates. suppose we have a binary treatment $Z$ response variable $r$, and background\n",
    "observed covariates $X$ the propensity score is the conditional probability of treatment given background variables\n",
    "\n",
    "$$e(X) \\triangleq p(Z=1|X=x)$$"
   ],
   "metadata": {
    "collapsed": false
   }
  },
  {
   "cell_type": "markdown",
   "source": [],
   "metadata": {
    "collapsed": false,
    "pycharm": {
     "name": "#%% md\n"
    }
   }
  }
 ],
 "metadata": {
  "kernelspec": {
   "display_name": "Python 3",
   "language": "python",
   "name": "python3"
  },
  "language_info": {
   "codemirror_mode": {
    "name": "ipython",
    "version": 2
   },
   "file_extension": ".py",
   "mimetype": "text/x-python",
   "name": "python",
   "nbconvert_exporter": "python",
   "pygments_lexer": "ipython2",
   "version": "2.7.6"
  }
 },
 "nbformat": 4,
 "nbformat_minor": 0
}