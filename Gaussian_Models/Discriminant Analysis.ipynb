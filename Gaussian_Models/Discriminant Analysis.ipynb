{
 "cells": [
  {
   "cell_type": "code",
   "execution_count": null,
   "metadata": {
    "collapsed": true
   },
   "outputs": [],
   "source": []
  },
  {
   "cell_type": "markdown",
   "source": [],
   "metadata": {
    "collapsed": false
   }
  },
  {
   "cell_type": "markdown",
   "source": [
    "#todo reference to mvn section of prob dist review\n",
    "\n",
    "# Generative Classifiers\n",
    "\n",
    "The following specifies how to generate data using class conditional density $p(x|y=c)$ and the class prior $p(y=c)$\n",
    "$$p(y=c|x)=\\frac{p(y=c)p(x|y=c)}{\\sum_{c^\\prime}p(y=c^\\prime|\\theta)p(x|y=c^\\prime)}$$"
   ],
   "metadata": {
    "collapsed": false
   }
  },
  {
   "cell_type": "markdown",
   "source": [
    "# Quadratic Discriminant Analysis\n",
    "\n",
    "plugging in gaussian density to the generative classifier equation and rearranging gives\n",
    "\n",
    "$$p(y=c|x,\\theta)=\\frac{\\pi_c|2\\pi \\Sigma|^{-\\frac{1}{2}}exp^{\\left[-\\frac{1}{2}(x-\\mu_c)^T\\Sigma_c^{-1}(x-\\mu_c)\\right]}}{\\sum_{c^\\prime}\\pi_{c^\\prime}|2\\pi \\Sigma_{c^\\prime}|^{-\\frac{1}{2}}exp^{\\left[-\\frac{1}{2}(x-\\mu_{c^\\prime})^T\\Sigma_{c^\\prime}^{-1}(x-\\mu_{c^\\prime})\\right]}}$$"
   ],
   "metadata": {
    "collapsed": false
   }
  }
 ],
 "metadata": {
  "kernelspec": {
   "display_name": "Python 3",
   "language": "python",
   "name": "python3"
  },
  "language_info": {
   "codemirror_mode": {
    "name": "ipython",
    "version": 2
   },
   "file_extension": ".py",
   "mimetype": "text/x-python",
   "name": "python",
   "nbconvert_exporter": "python",
   "pygments_lexer": "ipython2",
   "version": "2.7.6"
  }
 },
 "nbformat": 4,
 "nbformat_minor": 0
}