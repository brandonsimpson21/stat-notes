{
 "cells": [
  {
   "cell_type": "code",
   "execution_count": null,
   "metadata": {
    "collapsed": true
   },
   "outputs": [],
   "source": []
  },
  {
   "cell_type": "markdown",
   "source": [
    "stationarity essentially insures that the probability laws that govern the behavior do not change over time\n",
    "\n",
    "A process $\\{y_t\\}$ is strictly stationary if $p(y_{t_1} \\cdots, y_{y_n}) = p(y_{t_{1-k}},\\cdots, y_{t_{n-k}})$ for all time points $t_1,\\cdots ,t_n$ and all choices of time lag $k$, IE the $y$'s are marginally identically distributed so $E(y_t)=E[y_{t-k}]$ and $var(y_t)=var[y_{t-k}]$ for all $t,k$ and the variance is constant over time\n",
    "\n",
    "if a process is strictly stationary and has finite variance then the covariance function depends only on the time lag$\\gamma_k=Cov(y_t,y_{t-k})$ and $\\rho=corr(y_t,y_{t-k})$\n",
    "\n",
    "\\begin{align}\n",
    "\\gamma_0&=Var(y_t) \\quad & \\rho_0&=1\\\\\n",
    "\\gamma_k&=\\gamma_{-k} \\quad & \\rho_k&=\\rho_{-k}\\\\\n",
    "|\\gamma_k|&\\leq \\gamma_0 \\quad &  |\\rho_k|&\\leq1\n",
    "\\end{align}\n",
    "\n",
    "\n",
    "\n",
    "### weak stationarity\n",
    "\n",
    "1. the mean function is constant over time\n",
    "2. $\\gamma_{t,t-k}=\\gamma_{0,k}$\n"
   ],
   "metadata": {
    "collapsed": false,
    "pycharm": {
     "name": "#%% md\n"
    }
   }
  },
  {
   "cell_type": "markdown",
   "source": [
    "\n",
    "## Tests of Stationarity\n",
    "\n",
    "### Parametric Tests\n",
    "#### Dickey-Fuller Test\n",
    "\n",
    "an $AR(1)$ model is $y_t=\\rho y_{t-1}+u_t$ where $\\rho$ is a coefficient and $u$ is an error term, a unit root is present if $\\rho=1$\n",
    "\n",
    "the regression model can be written as\n",
    "\n",
    "$$\\Delta y_t=(\\rho-1)y_{t-1}+u_t=\\delta y_{t-1}+u_t$$ where $\\Delta$ is the difference operator\n",
    "\n",
    "1. test for unit root\n",
    "$$\\Delta y_t=\\delta y_{t-1}+u_t$$\n",
    "\n",
    "2. test for unit root with drift\n",
    "$$\\Delta y_t=a_0+\\delta y_{t-1}+u_t$$\n",
    "\n",
    "3. test for unit root with drift and deterministic time trend\n",
    "$$\\Delta y_t=a_0+a_1t+\\delta y_{t-1}+u_t$$\n",
    "\n",
    "the intuition if $y$ is stationary then it tends to return to the mean.\n",
    "\n",
    "### Augmented Dickey-Fuller\n",
    "same testing procedure as DF but model is\n",
    "\n",
    "$$\\Delta y_y=\\alpha + \\beta t +\\gamma y_{t-1}+\\\\delta_1\\Delta y_{t-1} + \\cdots + \\delta_{p-1}\\Delta y_{t-p+1} +\\epsilon_t$$\n",
    "\n",
    "where $\\alpha$ is a constant $\\beta$ is the coefficient on a time trend and $p$ is the lag order. if $\\alpha=\\beta=0$ its a random walk if $\\beta=0$ its a random walk with drift\n",
    "the augmented test includes more lags and allows higher order autoregressive processes so lag p has to be determined when applying the test, you could test down from higher orders and look at AIC\n"
   ],
   "metadata": {
    "collapsed": false
   }
  },
  {
   "cell_type": "code",
   "execution_count": 33,
   "outputs": [
    {
     "data": {
      "text/plain": "(-12.198594201379608,\n 1.2380729620898548e-22,\n 11,\n 1531,\n {'1%': -3.4346284441307184,\n  '5%': -2.863429668579316,\n  '10%': -2.5677760318409732},\n 5455.747461327768)"
     },
     "execution_count": 33,
     "metadata": {},
     "output_type": "execute_result"
    }
   ],
   "source": [
    "import pandas as pd\n",
    "from statsmodels.tsa.stattools import adfuller\n",
    "aapl = pd.read_csv('apple.csv', index_col=0)['bidprice']\n",
    "aapl_diff = aapl.diff().dropna()\n",
    "df = adfuller(aapl_diff)\n",
    "df"
   ],
   "metadata": {
    "collapsed": false,
    "pycharm": {
     "name": "#%%\n"
    }
   }
  },
  {
   "cell_type": "markdown",
   "source": [
    "## Kwiatkowski-Phillips-Schmidt-Shin test for stationarity. (KSPSS)\n",
    "\n",
    "test breaks up series into 3 parts a deterministic trend $\\beta t$ a random walk $rt$ and a stationary error $\\epsilon t$ with equation\n",
    "\n",
    "$$x_t=r_t+\\beta t + \\epsilon_t$$ where $r_t=r_{t-1}+u_t$ where $u\\sim(o,\\sigma^2)$\n",
    "\n",
    "the null hypothesis is $\\sigma^2=0$ and alt is $\\sigma^2>0$\n",
    "\n",
    "note in this test the null assumes stationarity around a mean or linear trend while the alternative is the presence of a unit root"
   ],
   "metadata": {
    "collapsed": false
   }
  },
  {
   "cell_type": "code",
   "execution_count": 43,
   "outputs": [
    {
     "name": "stderr",
     "output_type": "stream",
     "text": [
      "/home/brandon/anaconda3/envs/minerva/lib/python3.7/site-packages/statsmodels/tsa/stattools.py:1687: InterpolationWarning: p-value is greater than the indicated p-value\n",
      "  warn(\"p-value is greater than the indicated p-value\", InterpolationWarning)\n"
     ]
    }
   ],
   "source": [
    "from statsmodels.tsa.stattools import kpss\n",
    "kps2 = kpss(aapl_diff, regression='c', nlags='auto' )\n",
    "kps2_p = kps2[1]"
   ],
   "metadata": {
    "collapsed": false,
    "pycharm": {
     "name": "#%%\n"
    }
   }
  },
  {
   "cell_type": "code",
   "execution_count": null,
   "outputs": [],
   "source": [],
   "metadata": {
    "collapsed": false,
    "pycharm": {
     "name": "#%%\n"
    }
   }
  }
 ],
 "metadata": {
  "kernelspec": {
   "display_name": "Python 3",
   "language": "python",
   "name": "python3"
  },
  "language_info": {
   "codemirror_mode": {
    "name": "ipython",
    "version": 2
   },
   "file_extension": ".py",
   "mimetype": "text/x-python",
   "name": "python",
   "nbconvert_exporter": "python",
   "pygments_lexer": "ipython2",
   "version": "2.7.6"
  }
 },
 "nbformat": 4,
 "nbformat_minor": 0
}