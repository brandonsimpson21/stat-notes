{
 "cells": [
  {
   "cell_type": "code",
   "execution_count": null,
   "metadata": {
    "collapsed": true
   },
   "outputs": [],
   "source": []
  },
  {
   "cell_type": "markdown",
   "source": [
    "stationarity essentially insures that the probability laws that govern the behavior do not change over time\n",
    "\n",
    "A process $\\{y_t\\}$ is strictly stationary if $p(y_{t_1} \\cdots, y_{y_n}) = p(y_{t_{1-k}},\\cdots, y_{t_{n-k}})$ for all time points $t_1,\\cdots ,t_n$ and all choices of time lag $k$, IE the $y$'s are marginally identically distributed so $E(y_t)=E[y_{t-k}]$ and $var(y_t)=var[y_{t-k}]$ for all $t,k$ and the variance is constant over time\n",
    "\n",
    "if a process is strictly stationary and has finite variance then the covariance function depends only on the time lag$\\gamma_k=Cov(y_t,y_{t-k})$ and $\\rho=corr(y_t,y_{t-k})$\n",
    "\n",
    "\\begin{align}\n",
    "\\gamma_0&=Var(y_t) \\quad & \\rho_0&=1\\\\\n",
    "\\gamma_k&=\\gamma_{-k} \\quad & \\rho_k&=\\rho_{-k}\\\\\n",
    "|\\gamma_k|&\\leq \\gamma_0 \\quad &  |\\rho_k|&\\leq1\n",
    "\\end{align}\n",
    "\n",
    "\n",
    "\n",
    "### weak stationarity\n",
    "\n",
    "1. the mean function is constant over time\n",
    "2. $\\gamma_{t,t-k}=\\gamma_{0,k}$\n"
   ],
   "metadata": {
    "collapsed": false,
    "pycharm": {
     "name": "#%% md\n"
    }
   }
  },
  {
   "cell_type": "markdown",
   "source": [
    "\n",
    "## Tests of Stationarity\n",
    "\n",
    "### Parametric Tests\n",
    "#### Dickey-Fuller Test\n",
    "\n",
    "an $AR(1)$ model is $y_t=\\rho y_{t-1}+u_t$ where $\\rho$ is a coefficient and $u$ is an error term, a unit root is present if $\\rho=1$\n",
    "\n",
    "the regression model can be written as\n",
    "\n",
    "$$\\Delta y_t=(\\rho-1)y_{t-1}+u_t=\\delta y_{t-1}+u_t$$ where $\\Delta$ is the difference operator\n",
    "\n",
    "1. test for unit root\n",
    "$$\\Delta y_t=\\delta y_{t-1}+u_t$$\n",
    "\n",
    "2. test for unit root with drift\n",
    "$$\\Delta y_t=a_0+\\delta y_{t-1}+u_t$$\n",
    "\n",
    "3. test for unit root with drift and deterministic time trend\n",
    "$$\\Delta y_t=a_0+a_1t+\\delta y_{t-1}+u_t$$\n",
    "\n",
    "the intuition if $y$ is stationary then it tends to return to the mean.\n",
    "\n",
    "### Augmented Dickey-Fuller\n",
    "same testing procedure as DF but model is\n",
    "\n",
    "$$\\Delta y_y=\\alpha + \\beta t +\\gamma y_{t-1}+\\\\delta_1\\Delta y_{t-1} + \\cdots + \\delta_{p-1}\\Delta y_{t-p+1} +\\epsilon_t$$\n",
    "\n",
    "where $\\alpha$ is a constant $\\beta$ is the coefficient on a time trend and $p$ is the lag order. if $\\alpha=\\beta=0$ its a random walk if $\\beta=0$ its a random walk with drift\n",
    "the augmented test includes more lags and allows higher order autoregressive processes so lag p has to be determined when applying the test, you could test down from higher orders and look at AIC\n"
   ],
   "metadata": {
    "collapsed": false
   }
  },
  {
   "cell_type": "code",
   "execution_count": 33,
   "outputs": [
    {
     "data": {
      "text/plain": "(-12.198594201379608,\n 1.2380729620898548e-22,\n 11,\n 1531,\n {'1%': -3.4346284441307184,\n  '5%': -2.863429668579316,\n  '10%': -2.5677760318409732},\n 5455.747461327768)"
     },
     "execution_count": 33,
     "metadata": {},
     "output_type": "execute_result"
    }
   ],
   "source": [
    "import pandas as pd\n",
    "from statsmodels.tsa.stattools import adfuller\n",
    "aapl = pd.read_csv('apple.csv', index_col=0)['bidprice']\n",
    "aapl_diff = aapl.diff().dropna()\n",
    "df = adfuller(aapl_diff)\n",
    "df"
   ],
   "metadata": {
    "collapsed": false,
    "pycharm": {
     "name": "#%%\n"
    }
   }
  },
  {
   "cell_type": "markdown",
   "source": [
    "## Kwiatkowski-Phillips-Schmidt-Shin test for stationarity. (KSPSS)\n",
    "\n",
    "test breaks up series into 3 parts a deterministic trend $\\beta t$ a random walk $rt$ and a stationary error $\\epsilon t$ with equation\n",
    "\n",
    "$$x_t=r_t+\\beta t + \\epsilon_t$$ where $r_t=r_{t-1}+u_t$ where $u\\sim(o,\\sigma^2)$\n",
    "\n",
    "the null hypothesis is $\\sigma^2=0$ and alt is $\\sigma^2>0$\n",
    "\n",
    "note in this test the null assumes stationarity around a mean or linear trend while the alternative is the presence of a unit root"
   ],
   "metadata": {
    "collapsed": false
   }
  },
  {
   "cell_type": "code",
   "execution_count": 43,
   "outputs": [
    {
     "name": "stderr",
     "output_type": "stream",
     "text": [
      "/home/brandon/anaconda3/envs/minerva/lib/python3.7/site-packages/statsmodels/tsa/stattools.py:1687: InterpolationWarning: p-value is greater than the indicated p-value\n",
      "  warn(\"p-value is greater than the indicated p-value\", InterpolationWarning)\n"
     ]
    }
   ],
   "source": [
    "from statsmodels.tsa.stattools import kpss\n",
    "kps2 = kpss(aapl_diff, regression='c', nlags='auto' )\n",
    "kps2_p = kps2[1]"
   ],
   "metadata": {
    "collapsed": false,
    "pycharm": {
     "name": "#%%\n"
    }
   }
  },
  {
   "cell_type": "code",
   "execution_count": null,
   "outputs": [],
   "source": [],
   "metadata": {
    "collapsed": false,
    "pycharm": {
     "name": "#%%\n"
    }
   }
  },
  {
   "cell_type": "markdown",
   "source": [
    "## Fractionally Differentiated Features\n",
    "\n",
    "let $B$ be the backshift operator applied to matrix of real valued features $\\{X\\}$ where $B^kX_t=X_{t-1}$ for any $k\\geq 0$  EG $(1-B)^2=1-2B+B^2$ where $B^2X_t==X_{t-2}$ so that $(1-B)^2=X_t-2X_{t-1}+X_{t-2}\n",
    "\n",
    "note that $(x+y)^n=\\sum_{k=0}^n {n \\choose{k}}x^ky^{n-k}$ for a real number $d$ $(2+x)^d=\\sum_{k=0}^\\inf{d \\choose{k}}x^k$ the binomial series\n",
    "\n",
    "in the fractional model $d$ can be a real number with the following binomial expansion\n",
    "\n",
    "\\begin{align}\n",
    "(1-b)^D=\\sum_{K=O}^\\inf {d \\choose{k}}(-B)^k &=\\sum_{k=0}^\\inf\\frac{\\prod_{i=1}^{k-1}(d-i)}{k!}(-B)^k\\\\\n",
    "&=1-db+\\frac{d(d-1)}{2!}B^2-\\frac{d(d-1)(d-2)}{3!}B^3+\\cdots \\\\\n",
    "\\end{align}\n",
    "\n",
    "the arithmatic series consists\n",
    "\n",
    "$$X_t=\\sum_{k=0}^\\inf \\omega_k X_{t-k}$$ where\n",
    "\n",
    "$$\\omega = \\left\\{1,-d, \\frac{d(d-1)}{2!},-\\frac{d(d-1)(d-2)}{3!}, \\cdots (-1)^k\\prod_{i=0}^{k-1}\\frac{d-i}{k!}\\right \\}$$\n",
    "\n",
    "when $d$ is a positive integer memoory beyond $k>d$ is gone\n",
    "\n",
    "weights are generated iteratively $\\omega_k-\\omega_{k-1}\\frac{d-k+1}{k}$"
   ],
   "metadata": {
    "collapsed": false
   }
  },
  {
   "cell_type": "code",
   "execution_count": 147,
   "outputs": [
    {
     "name": "stderr",
     "output_type": "stream",
     "text": [
      "/home/brandon/anaconda3/envs/minerva/lib/python3.7/site-packages/ipykernel_launcher.py:24: DeprecationWarning: The default dtype for empty Series will be 'object' instead of 'float64' in a future version. Specify a dtype explicitly to silence this warning.\n",
      "/home/brandon/anaconda3/envs/minerva/lib/python3.7/site-packages/statsmodels/tsa/stattools.py:1661: FutureWarning: The behavior of using lags=None will change in the next release. Currently lags=None is the same as lags='legacy', and so a sample-size lag length is used. After the next release, the default will change to be the same as lags='auto' which uses an automatic lag length selection method. To silence this warning, either use 'auto' or 'legacy'\n",
      "  warn(msg, FutureWarning)\n",
      "/home/brandon/anaconda3/envs/minerva/lib/python3.7/site-packages/statsmodels/tsa/stattools.py:1685: InterpolationWarning: p-value is smaller than the indicated p-value\n",
      "  warn(\"p-value is smaller than the indicated p-value\", InterpolationWarning)\n",
      "/home/brandon/anaconda3/envs/minerva/lib/python3.7/site-packages/ipykernel_launcher.py:24: DeprecationWarning: The default dtype for empty Series will be 'object' instead of 'float64' in a future version. Specify a dtype explicitly to silence this warning.\n",
      "/home/brandon/anaconda3/envs/minerva/lib/python3.7/site-packages/statsmodels/tsa/stattools.py:1661: FutureWarning: The behavior of using lags=None will change in the next release. Currently lags=None is the same as lags='legacy', and so a sample-size lag length is used. After the next release, the default will change to be the same as lags='auto' which uses an automatic lag length selection method. To silence this warning, either use 'auto' or 'legacy'\n",
      "  warn(msg, FutureWarning)\n",
      "/home/brandon/anaconda3/envs/minerva/lib/python3.7/site-packages/statsmodels/tsa/stattools.py:1685: InterpolationWarning: p-value is smaller than the indicated p-value\n",
      "  warn(\"p-value is smaller than the indicated p-value\", InterpolationWarning)\n",
      "/home/brandon/anaconda3/envs/minerva/lib/python3.7/site-packages/ipykernel_launcher.py:24: DeprecationWarning: The default dtype for empty Series will be 'object' instead of 'float64' in a future version. Specify a dtype explicitly to silence this warning.\n",
      "/home/brandon/anaconda3/envs/minerva/lib/python3.7/site-packages/statsmodels/tsa/stattools.py:1661: FutureWarning: The behavior of using lags=None will change in the next release. Currently lags=None is the same as lags='legacy', and so a sample-size lag length is used. After the next release, the default will change to be the same as lags='auto' which uses an automatic lag length selection method. To silence this warning, either use 'auto' or 'legacy'\n",
      "  warn(msg, FutureWarning)\n",
      "/home/brandon/anaconda3/envs/minerva/lib/python3.7/site-packages/statsmodels/tsa/stattools.py:1685: InterpolationWarning: p-value is smaller than the indicated p-value\n",
      "  warn(\"p-value is smaller than the indicated p-value\", InterpolationWarning)\n",
      "/home/brandon/anaconda3/envs/minerva/lib/python3.7/site-packages/ipykernel_launcher.py:24: DeprecationWarning: The default dtype for empty Series will be 'object' instead of 'float64' in a future version. Specify a dtype explicitly to silence this warning.\n",
      "/home/brandon/anaconda3/envs/minerva/lib/python3.7/site-packages/statsmodels/tsa/stattools.py:1661: FutureWarning: The behavior of using lags=None will change in the next release. Currently lags=None is the same as lags='legacy', and so a sample-size lag length is used. After the next release, the default will change to be the same as lags='auto' which uses an automatic lag length selection method. To silence this warning, either use 'auto' or 'legacy'\n",
      "  warn(msg, FutureWarning)\n",
      "/home/brandon/anaconda3/envs/minerva/lib/python3.7/site-packages/statsmodels/tsa/stattools.py:1685: InterpolationWarning: p-value is smaller than the indicated p-value\n",
      "  warn(\"p-value is smaller than the indicated p-value\", InterpolationWarning)\n",
      "/home/brandon/anaconda3/envs/minerva/lib/python3.7/site-packages/ipykernel_launcher.py:24: DeprecationWarning: The default dtype for empty Series will be 'object' instead of 'float64' in a future version. Specify a dtype explicitly to silence this warning.\n",
      "/home/brandon/anaconda3/envs/minerva/lib/python3.7/site-packages/statsmodels/tsa/stattools.py:1661: FutureWarning: The behavior of using lags=None will change in the next release. Currently lags=None is the same as lags='legacy', and so a sample-size lag length is used. After the next release, the default will change to be the same as lags='auto' which uses an automatic lag length selection method. To silence this warning, either use 'auto' or 'legacy'\n",
      "  warn(msg, FutureWarning)\n",
      "/home/brandon/anaconda3/envs/minerva/lib/python3.7/site-packages/statsmodels/tsa/stattools.py:1685: InterpolationWarning: p-value is smaller than the indicated p-value\n",
      "  warn(\"p-value is smaller than the indicated p-value\", InterpolationWarning)\n",
      "/home/brandon/anaconda3/envs/minerva/lib/python3.7/site-packages/ipykernel_launcher.py:24: DeprecationWarning: The default dtype for empty Series will be 'object' instead of 'float64' in a future version. Specify a dtype explicitly to silence this warning.\n",
      "/home/brandon/anaconda3/envs/minerva/lib/python3.7/site-packages/statsmodels/tsa/stattools.py:1661: FutureWarning: The behavior of using lags=None will change in the next release. Currently lags=None is the same as lags='legacy', and so a sample-size lag length is used. After the next release, the default will change to be the same as lags='auto' which uses an automatic lag length selection method. To silence this warning, either use 'auto' or 'legacy'\n",
      "  warn(msg, FutureWarning)\n",
      "/home/brandon/anaconda3/envs/minerva/lib/python3.7/site-packages/statsmodels/tsa/stattools.py:1685: InterpolationWarning: p-value is smaller than the indicated p-value\n",
      "  warn(\"p-value is smaller than the indicated p-value\", InterpolationWarning)\n",
      "/home/brandon/anaconda3/envs/minerva/lib/python3.7/site-packages/ipykernel_launcher.py:24: DeprecationWarning: The default dtype for empty Series will be 'object' instead of 'float64' in a future version. Specify a dtype explicitly to silence this warning.\n",
      "/home/brandon/anaconda3/envs/minerva/lib/python3.7/site-packages/statsmodels/tsa/stattools.py:1661: FutureWarning: The behavior of using lags=None will change in the next release. Currently lags=None is the same as lags='legacy', and so a sample-size lag length is used. After the next release, the default will change to be the same as lags='auto' which uses an automatic lag length selection method. To silence this warning, either use 'auto' or 'legacy'\n",
      "  warn(msg, FutureWarning)\n",
      "/home/brandon/anaconda3/envs/minerva/lib/python3.7/site-packages/statsmodels/tsa/stattools.py:1685: InterpolationWarning: p-value is smaller than the indicated p-value\n",
      "  warn(\"p-value is smaller than the indicated p-value\", InterpolationWarning)\n",
      "/home/brandon/anaconda3/envs/minerva/lib/python3.7/site-packages/ipykernel_launcher.py:24: DeprecationWarning: The default dtype for empty Series will be 'object' instead of 'float64' in a future version. Specify a dtype explicitly to silence this warning.\n",
      "/home/brandon/anaconda3/envs/minerva/lib/python3.7/site-packages/statsmodels/tsa/stattools.py:1661: FutureWarning: The behavior of using lags=None will change in the next release. Currently lags=None is the same as lags='legacy', and so a sample-size lag length is used. After the next release, the default will change to be the same as lags='auto' which uses an automatic lag length selection method. To silence this warning, either use 'auto' or 'legacy'\n",
      "  warn(msg, FutureWarning)\n",
      "/home/brandon/anaconda3/envs/minerva/lib/python3.7/site-packages/statsmodels/tsa/stattools.py:1685: InterpolationWarning: p-value is smaller than the indicated p-value\n",
      "  warn(\"p-value is smaller than the indicated p-value\", InterpolationWarning)\n",
      "/home/brandon/anaconda3/envs/minerva/lib/python3.7/site-packages/ipykernel_launcher.py:24: DeprecationWarning: The default dtype for empty Series will be 'object' instead of 'float64' in a future version. Specify a dtype explicitly to silence this warning.\n",
      "/home/brandon/anaconda3/envs/minerva/lib/python3.7/site-packages/statsmodels/tsa/stattools.py:1661: FutureWarning: The behavior of using lags=None will change in the next release. Currently lags=None is the same as lags='legacy', and so a sample-size lag length is used. After the next release, the default will change to be the same as lags='auto' which uses an automatic lag length selection method. To silence this warning, either use 'auto' or 'legacy'\n",
      "  warn(msg, FutureWarning)\n",
      "/home/brandon/anaconda3/envs/minerva/lib/python3.7/site-packages/statsmodels/tsa/stattools.py:1685: InterpolationWarning: p-value is smaller than the indicated p-value\n",
      "  warn(\"p-value is smaller than the indicated p-value\", InterpolationWarning)\n",
      "/home/brandon/anaconda3/envs/minerva/lib/python3.7/site-packages/ipykernel_launcher.py:24: DeprecationWarning: The default dtype for empty Series will be 'object' instead of 'float64' in a future version. Specify a dtype explicitly to silence this warning.\n",
      "/home/brandon/anaconda3/envs/minerva/lib/python3.7/site-packages/statsmodels/tsa/stattools.py:1661: FutureWarning: The behavior of using lags=None will change in the next release. Currently lags=None is the same as lags='legacy', and so a sample-size lag length is used. After the next release, the default will change to be the same as lags='auto' which uses an automatic lag length selection method. To silence this warning, either use 'auto' or 'legacy'\n",
      "  warn(msg, FutureWarning)\n",
      "/home/brandon/anaconda3/envs/minerva/lib/python3.7/site-packages/statsmodels/tsa/stattools.py:1685: InterpolationWarning: p-value is smaller than the indicated p-value\n",
      "  warn(\"p-value is smaller than the indicated p-value\", InterpolationWarning)\n",
      "/home/brandon/anaconda3/envs/minerva/lib/python3.7/site-packages/ipykernel_launcher.py:24: DeprecationWarning: The default dtype for empty Series will be 'object' instead of 'float64' in a future version. Specify a dtype explicitly to silence this warning.\n",
      "/home/brandon/anaconda3/envs/minerva/lib/python3.7/site-packages/statsmodels/tsa/stattools.py:1661: FutureWarning: The behavior of using lags=None will change in the next release. Currently lags=None is the same as lags='legacy', and so a sample-size lag length is used. After the next release, the default will change to be the same as lags='auto' which uses an automatic lag length selection method. To silence this warning, either use 'auto' or 'legacy'\n",
      "  warn(msg, FutureWarning)\n",
      "/home/brandon/anaconda3/envs/minerva/lib/python3.7/site-packages/statsmodels/tsa/stattools.py:1685: InterpolationWarning: p-value is smaller than the indicated p-value\n",
      "  warn(\"p-value is smaller than the indicated p-value\", InterpolationWarning)\n",
      "/home/brandon/anaconda3/envs/minerva/lib/python3.7/site-packages/ipykernel_launcher.py:24: DeprecationWarning: The default dtype for empty Series will be 'object' instead of 'float64' in a future version. Specify a dtype explicitly to silence this warning.\n",
      "/home/brandon/anaconda3/envs/minerva/lib/python3.7/site-packages/statsmodels/tsa/stattools.py:1661: FutureWarning: The behavior of using lags=None will change in the next release. Currently lags=None is the same as lags='legacy', and so a sample-size lag length is used. After the next release, the default will change to be the same as lags='auto' which uses an automatic lag length selection method. To silence this warning, either use 'auto' or 'legacy'\n",
      "  warn(msg, FutureWarning)\n",
      "/home/brandon/anaconda3/envs/minerva/lib/python3.7/site-packages/statsmodels/tsa/stattools.py:1685: InterpolationWarning: p-value is smaller than the indicated p-value\n",
      "  warn(\"p-value is smaller than the indicated p-value\", InterpolationWarning)\n",
      "/home/brandon/anaconda3/envs/minerva/lib/python3.7/site-packages/ipykernel_launcher.py:24: DeprecationWarning: The default dtype for empty Series will be 'object' instead of 'float64' in a future version. Specify a dtype explicitly to silence this warning.\n",
      "/home/brandon/anaconda3/envs/minerva/lib/python3.7/site-packages/statsmodels/tsa/stattools.py:1661: FutureWarning: The behavior of using lags=None will change in the next release. Currently lags=None is the same as lags='legacy', and so a sample-size lag length is used. After the next release, the default will change to be the same as lags='auto' which uses an automatic lag length selection method. To silence this warning, either use 'auto' or 'legacy'\n",
      "  warn(msg, FutureWarning)\n",
      "/home/brandon/anaconda3/envs/minerva/lib/python3.7/site-packages/statsmodels/tsa/stattools.py:1685: InterpolationWarning: p-value is smaller than the indicated p-value\n",
      "  warn(\"p-value is smaller than the indicated p-value\", InterpolationWarning)\n",
      "/home/brandon/anaconda3/envs/minerva/lib/python3.7/site-packages/ipykernel_launcher.py:24: DeprecationWarning: The default dtype for empty Series will be 'object' instead of 'float64' in a future version. Specify a dtype explicitly to silence this warning.\n",
      "/home/brandon/anaconda3/envs/minerva/lib/python3.7/site-packages/statsmodels/tsa/stattools.py:1661: FutureWarning: The behavior of using lags=None will change in the next release. Currently lags=None is the same as lags='legacy', and so a sample-size lag length is used. After the next release, the default will change to be the same as lags='auto' which uses an automatic lag length selection method. To silence this warning, either use 'auto' or 'legacy'\n",
      "  warn(msg, FutureWarning)\n",
      "/home/brandon/anaconda3/envs/minerva/lib/python3.7/site-packages/statsmodels/tsa/stattools.py:1685: InterpolationWarning: p-value is smaller than the indicated p-value\n",
      "  warn(\"p-value is smaller than the indicated p-value\", InterpolationWarning)\n",
      "/home/brandon/anaconda3/envs/minerva/lib/python3.7/site-packages/ipykernel_launcher.py:24: DeprecationWarning: The default dtype for empty Series will be 'object' instead of 'float64' in a future version. Specify a dtype explicitly to silence this warning.\n",
      "/home/brandon/anaconda3/envs/minerva/lib/python3.7/site-packages/statsmodels/tsa/stattools.py:1661: FutureWarning: The behavior of using lags=None will change in the next release. Currently lags=None is the same as lags='legacy', and so a sample-size lag length is used. After the next release, the default will change to be the same as lags='auto' which uses an automatic lag length selection method. To silence this warning, either use 'auto' or 'legacy'\n",
      "  warn(msg, FutureWarning)\n",
      "/home/brandon/anaconda3/envs/minerva/lib/python3.7/site-packages/statsmodels/tsa/stattools.py:1685: InterpolationWarning: p-value is smaller than the indicated p-value\n",
      "  warn(\"p-value is smaller than the indicated p-value\", InterpolationWarning)\n",
      "/home/brandon/anaconda3/envs/minerva/lib/python3.7/site-packages/ipykernel_launcher.py:24: DeprecationWarning: The default dtype for empty Series will be 'object' instead of 'float64' in a future version. Specify a dtype explicitly to silence this warning.\n",
      "/home/brandon/anaconda3/envs/minerva/lib/python3.7/site-packages/statsmodels/tsa/stattools.py:1661: FutureWarning: The behavior of using lags=None will change in the next release. Currently lags=None is the same as lags='legacy', and so a sample-size lag length is used. After the next release, the default will change to be the same as lags='auto' which uses an automatic lag length selection method. To silence this warning, either use 'auto' or 'legacy'\n",
      "  warn(msg, FutureWarning)\n",
      "/home/brandon/anaconda3/envs/minerva/lib/python3.7/site-packages/statsmodels/tsa/stattools.py:1685: InterpolationWarning: p-value is smaller than the indicated p-value\n",
      "  warn(\"p-value is smaller than the indicated p-value\", InterpolationWarning)\n",
      "/home/brandon/anaconda3/envs/minerva/lib/python3.7/site-packages/ipykernel_launcher.py:24: DeprecationWarning: The default dtype for empty Series will be 'object' instead of 'float64' in a future version. Specify a dtype explicitly to silence this warning.\n",
      "/home/brandon/anaconda3/envs/minerva/lib/python3.7/site-packages/statsmodels/tsa/stattools.py:1661: FutureWarning: The behavior of using lags=None will change in the next release. Currently lags=None is the same as lags='legacy', and so a sample-size lag length is used. After the next release, the default will change to be the same as lags='auto' which uses an automatic lag length selection method. To silence this warning, either use 'auto' or 'legacy'\n",
      "  warn(msg, FutureWarning)\n",
      "/home/brandon/anaconda3/envs/minerva/lib/python3.7/site-packages/statsmodels/tsa/stattools.py:1685: InterpolationWarning: p-value is smaller than the indicated p-value\n",
      "  warn(\"p-value is smaller than the indicated p-value\", InterpolationWarning)\n",
      "/home/brandon/anaconda3/envs/minerva/lib/python3.7/site-packages/ipykernel_launcher.py:24: DeprecationWarning: The default dtype for empty Series will be 'object' instead of 'float64' in a future version. Specify a dtype explicitly to silence this warning.\n",
      "/home/brandon/anaconda3/envs/minerva/lib/python3.7/site-packages/statsmodels/tsa/stattools.py:1661: FutureWarning: The behavior of using lags=None will change in the next release. Currently lags=None is the same as lags='legacy', and so a sample-size lag length is used. After the next release, the default will change to be the same as lags='auto' which uses an automatic lag length selection method. To silence this warning, either use 'auto' or 'legacy'\n",
      "  warn(msg, FutureWarning)\n",
      "/home/brandon/anaconda3/envs/minerva/lib/python3.7/site-packages/statsmodels/tsa/stattools.py:1685: InterpolationWarning: p-value is smaller than the indicated p-value\n",
      "  warn(\"p-value is smaller than the indicated p-value\", InterpolationWarning)\n",
      "/home/brandon/anaconda3/envs/minerva/lib/python3.7/site-packages/ipykernel_launcher.py:24: DeprecationWarning: The default dtype for empty Series will be 'object' instead of 'float64' in a future version. Specify a dtype explicitly to silence this warning.\n",
      "/home/brandon/anaconda3/envs/minerva/lib/python3.7/site-packages/statsmodels/tsa/stattools.py:1661: FutureWarning: The behavior of using lags=None will change in the next release. Currently lags=None is the same as lags='legacy', and so a sample-size lag length is used. After the next release, the default will change to be the same as lags='auto' which uses an automatic lag length selection method. To silence this warning, either use 'auto' or 'legacy'\n",
      "  warn(msg, FutureWarning)\n",
      "/home/brandon/anaconda3/envs/minerva/lib/python3.7/site-packages/statsmodels/tsa/stattools.py:1685: InterpolationWarning: p-value is smaller than the indicated p-value\n",
      "  warn(\"p-value is smaller than the indicated p-value\", InterpolationWarning)\n",
      "/home/brandon/anaconda3/envs/minerva/lib/python3.7/site-packages/ipykernel_launcher.py:24: DeprecationWarning: The default dtype for empty Series will be 'object' instead of 'float64' in a future version. Specify a dtype explicitly to silence this warning.\n",
      "/home/brandon/anaconda3/envs/minerva/lib/python3.7/site-packages/statsmodels/tsa/stattools.py:1661: FutureWarning: The behavior of using lags=None will change in the next release. Currently lags=None is the same as lags='legacy', and so a sample-size lag length is used. After the next release, the default will change to be the same as lags='auto' which uses an automatic lag length selection method. To silence this warning, either use 'auto' or 'legacy'\n",
      "  warn(msg, FutureWarning)\n",
      "/home/brandon/anaconda3/envs/minerva/lib/python3.7/site-packages/statsmodels/tsa/stattools.py:1685: InterpolationWarning: p-value is smaller than the indicated p-value\n",
      "  warn(\"p-value is smaller than the indicated p-value\", InterpolationWarning)\n",
      "/home/brandon/anaconda3/envs/minerva/lib/python3.7/site-packages/ipykernel_launcher.py:24: DeprecationWarning: The default dtype for empty Series will be 'object' instead of 'float64' in a future version. Specify a dtype explicitly to silence this warning.\n",
      "/home/brandon/anaconda3/envs/minerva/lib/python3.7/site-packages/statsmodels/tsa/stattools.py:1661: FutureWarning: The behavior of using lags=None will change in the next release. Currently lags=None is the same as lags='legacy', and so a sample-size lag length is used. After the next release, the default will change to be the same as lags='auto' which uses an automatic lag length selection method. To silence this warning, either use 'auto' or 'legacy'\n",
      "  warn(msg, FutureWarning)\n",
      "/home/brandon/anaconda3/envs/minerva/lib/python3.7/site-packages/statsmodels/tsa/stattools.py:1685: InterpolationWarning: p-value is smaller than the indicated p-value\n",
      "  warn(\"p-value is smaller than the indicated p-value\", InterpolationWarning)\n",
      "/home/brandon/anaconda3/envs/minerva/lib/python3.7/site-packages/ipykernel_launcher.py:24: DeprecationWarning: The default dtype for empty Series will be 'object' instead of 'float64' in a future version. Specify a dtype explicitly to silence this warning.\n",
      "/home/brandon/anaconda3/envs/minerva/lib/python3.7/site-packages/statsmodels/tsa/stattools.py:1661: FutureWarning: The behavior of using lags=None will change in the next release. Currently lags=None is the same as lags='legacy', and so a sample-size lag length is used. After the next release, the default will change to be the same as lags='auto' which uses an automatic lag length selection method. To silence this warning, either use 'auto' or 'legacy'\n",
      "  warn(msg, FutureWarning)\n",
      "/home/brandon/anaconda3/envs/minerva/lib/python3.7/site-packages/statsmodels/tsa/stattools.py:1687: InterpolationWarning: p-value is greater than the indicated p-value\n",
      "  warn(\"p-value is greater than the indicated p-value\", InterpolationWarning)\n"
     ]
    }
   ],
   "source": [
    "import numpy as np\n",
    "from statsmodels.tsa.stattools import adfuller\n",
    "import pandas as pd\n",
    "import matplotlib\n",
    "%matplotlib inline\n",
    "aapl = pd.read_csv('apple.csv', index_col=0, usecols=['time','bidprice'])\n",
    "aaplcumsum = aapl.cumsum()\n",
    "\n",
    "\n",
    "def getWeights_FFD(d,thres):\n",
    "    w,k=[1.],1\n",
    "    while True:\n",
    "        w_=-w[-1]/k*(d-k+1)\n",
    "        if abs(w_)<thres:\n",
    "            break\n",
    "        w.append(w_)\n",
    "        k+=1\n",
    "    return np.array(w[::-1]).reshape(-1,1)\n",
    "\n",
    "def frac_diff_FFD(series, d, thres=1e-5):\n",
    "    w =getWeights_FFD(d,thres)\n",
    "    width,df = len(w)-1,{}\n",
    "    for name in series.columns:\n",
    "        seriesF,df_=series[[name]].fillna(method='ffill').dropna(), pd.Series()\n",
    "        for iloc1 in range(width, seriesF.shape[0]):\n",
    "            loc0, loc1 = seriesF.index[iloc1-width], seriesF.index[iloc1]\n",
    "            if not np.isfinite(series.loc[loc1,name]): #exclude na\n",
    "                continue\n",
    "            df_[loc1]=np.dot(w.T,seriesF.loc[loc0:loc1])[0,0]\n",
    "        df[name]=df_.copy(deep=True)\n",
    "    df = pd.concat(df,axis=1)\n",
    "    return df\n",
    "\n",
    "def min_d_that_passes_ADF(series, thres=0.05, method='adfuller'):\n",
    "        df1 = np.log(series)\n",
    "        if method is 'adfuller':\n",
    "            out = pd.DataFrame(columns=['adfStat','pVal','lags','nObs','95% CI'])\n",
    "            for d in np.linspace(0,2,22):\n",
    "                df2 = frac_diff_FFD(series,d,thres=0.05)\n",
    "                adf = adfuller(df2, maxlag=1, regression='c', autolag=None)\n",
    "                out.loc[d]=list(adf[:4]) + [adf[4]['5%']]\n",
    "                if adf[1]<=thres:\n",
    "                    return df2, out, d\n",
    "        elif method == 'kpss':\n",
    "            out = pd.DataFrame(columns=['kpsStat','pVal'])\n",
    "            storage_ffdf = [] #to store ffd series since test shows when we reject null we want series right before that\n",
    "            storage_d = []\n",
    "            for d in np.linspace(0,2,22):\n",
    "                df2 = frac_diff_FFD(series,d,thres=0.05)\n",
    "                kps = kpss(df2, regression='c')\n",
    "                out.loc[d]=list(kps[:2])\n",
    "                if kps[1]>=thres:\n",
    "                    return storage_ffdf[-1], out, storage_d[-1]\n",
    "                else:\n",
    "                    storage_ffdf.append(df2)\n",
    "                    storage_d.append(d)\n",
    "        return 'no values satisfied adf'\n",
    "\n",
    "\n",
    "ffd, out, d = min_d_that_passes_ADF(aapl, method='kpss')\n",
    "\n",
    "#from this we can pass the adf test with a fractional differnce of 0.3\n"
   ],
   "metadata": {
    "collapsed": false,
    "pycharm": {
     "name": "#%%\n"
    }
   }
  },
  {
   "cell_type": "code",
   "execution_count": 148,
   "outputs": [
    {
     "data": {
      "text/plain": "           kpsStat  pVal\n0.000000  5.763688  0.01\n0.095238  5.757774  0.01\n0.190476  5.753088  0.01\n0.285714  5.747455  0.01\n0.380952  5.745171  0.01\n0.476190  5.741053  0.01\n0.571429  5.732980  0.01\n0.666667  5.736031  0.01\n0.761905  5.712809  0.01\n0.857143  5.622101  0.01\n0.952381  5.378517  0.01\n1.047619  5.406996  0.01\n1.142857  5.538540  0.01\n1.238095  5.657332  0.01\n1.333333  5.691978  0.01\n1.428571  5.622264  0.01\n1.523810  5.627186  0.01\n1.619048  5.611980  0.01\n1.714286  5.562306  0.01\n1.809524  5.669635  0.01\n1.904762  5.533701  0.01\n2.000000  0.020042  0.10",
      "text/html": "<div>\n<style scoped>\n    .dataframe tbody tr th:only-of-type {\n        vertical-align: middle;\n    }\n\n    .dataframe tbody tr th {\n        vertical-align: top;\n    }\n\n    .dataframe thead th {\n        text-align: right;\n    }\n</style>\n<table border=\"1\" class=\"dataframe\">\n  <thead>\n    <tr style=\"text-align: right;\">\n      <th></th>\n      <th>kpsStat</th>\n      <th>pVal</th>\n    </tr>\n  </thead>\n  <tbody>\n    <tr>\n      <th>0.000000</th>\n      <td>5.763688</td>\n      <td>0.01</td>\n    </tr>\n    <tr>\n      <th>0.095238</th>\n      <td>5.757774</td>\n      <td>0.01</td>\n    </tr>\n    <tr>\n      <th>0.190476</th>\n      <td>5.753088</td>\n      <td>0.01</td>\n    </tr>\n    <tr>\n      <th>0.285714</th>\n      <td>5.747455</td>\n      <td>0.01</td>\n    </tr>\n    <tr>\n      <th>0.380952</th>\n      <td>5.745171</td>\n      <td>0.01</td>\n    </tr>\n    <tr>\n      <th>0.476190</th>\n      <td>5.741053</td>\n      <td>0.01</td>\n    </tr>\n    <tr>\n      <th>0.571429</th>\n      <td>5.732980</td>\n      <td>0.01</td>\n    </tr>\n    <tr>\n      <th>0.666667</th>\n      <td>5.736031</td>\n      <td>0.01</td>\n    </tr>\n    <tr>\n      <th>0.761905</th>\n      <td>5.712809</td>\n      <td>0.01</td>\n    </tr>\n    <tr>\n      <th>0.857143</th>\n      <td>5.622101</td>\n      <td>0.01</td>\n    </tr>\n    <tr>\n      <th>0.952381</th>\n      <td>5.378517</td>\n      <td>0.01</td>\n    </tr>\n    <tr>\n      <th>1.047619</th>\n      <td>5.406996</td>\n      <td>0.01</td>\n    </tr>\n    <tr>\n      <th>1.142857</th>\n      <td>5.538540</td>\n      <td>0.01</td>\n    </tr>\n    <tr>\n      <th>1.238095</th>\n      <td>5.657332</td>\n      <td>0.01</td>\n    </tr>\n    <tr>\n      <th>1.333333</th>\n      <td>5.691978</td>\n      <td>0.01</td>\n    </tr>\n    <tr>\n      <th>1.428571</th>\n      <td>5.622264</td>\n      <td>0.01</td>\n    </tr>\n    <tr>\n      <th>1.523810</th>\n      <td>5.627186</td>\n      <td>0.01</td>\n    </tr>\n    <tr>\n      <th>1.619048</th>\n      <td>5.611980</td>\n      <td>0.01</td>\n    </tr>\n    <tr>\n      <th>1.714286</th>\n      <td>5.562306</td>\n      <td>0.01</td>\n    </tr>\n    <tr>\n      <th>1.809524</th>\n      <td>5.669635</td>\n      <td>0.01</td>\n    </tr>\n    <tr>\n      <th>1.904762</th>\n      <td>5.533701</td>\n      <td>0.01</td>\n    </tr>\n    <tr>\n      <th>2.000000</th>\n      <td>0.020042</td>\n      <td>0.10</td>\n    </tr>\n  </tbody>\n</table>\n</div>"
     },
     "execution_count": 148,
     "metadata": {},
     "output_type": "execute_result"
    }
   ],
   "source": [
    "out\n"
   ],
   "metadata": {
    "collapsed": false,
    "pycharm": {
     "name": "#%%\n"
    }
   }
  },
  {
   "cell_type": "code",
   "execution_count": 149,
   "outputs": [
    {
     "data": {
      "text/plain": "1.9047619047619047"
     },
     "execution_count": 149,
     "metadata": {},
     "output_type": "execute_result"
    }
   ],
   "source": [
    "d\n"
   ],
   "metadata": {
    "collapsed": false,
    "pycharm": {
     "name": "#%%\n"
    }
   }
  },
  {
   "cell_type": "code",
   "execution_count": 146,
   "outputs": [],
   "source": [],
   "metadata": {
    "collapsed": false,
    "pycharm": {
     "name": "#%%\n"
    }
   }
  },
  {
   "cell_type": "code",
   "execution_count": null,
   "outputs": [],
   "source": [],
   "metadata": {
    "collapsed": false,
    "pycharm": {
     "name": "#%%\n"
    }
   }
  }
 ],
 "metadata": {
  "kernelspec": {
   "display_name": "Python 3",
   "language": "python",
   "name": "python3"
  },
  "language_info": {
   "codemirror_mode": {
    "name": "ipython",
    "version": 2
   },
   "file_extension": ".py",
   "mimetype": "text/x-python",
   "name": "python",
   "nbconvert_exporter": "python",
   "pygments_lexer": "ipython2",
   "version": "2.7.6"
  }
 },
 "nbformat": 4,
 "nbformat_minor": 0
}