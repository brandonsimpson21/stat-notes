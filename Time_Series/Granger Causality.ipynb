{
 "cells": [
  {
   "cell_type": "code",
   "execution_count": null,
   "metadata": {
    "collapsed": true
   },
   "outputs": [],
   "source": []
  },
  {
   "cell_type": "markdown",
   "source": [
    "## Granger Causality\n",
    "\n",
    "if a signal $x_1$ granger-causes a signal $x_2$ then past values of $x_1$ should contain information that helps predict $x_2$ above and beyond the information contained in past values of $x_2$ alone.\n",
    "\n",
    "consider a bivariate linear autoregressive model fo two variables $x_1$ and $x_2$\n",
    "\n",
    "$$x_1(t)=\\sum_{j=1}^pA_{11,j}x_1(t-j)+\\sum_{j=1}^pA_{12,j}x_2(t-j)+E_1(t)$$\n",
    "\n",
    "$$x_2(t)=\\sum_{j=1}^pA_{21,j}x_1(t-j)+\\sum_{j=1}^pA_{22,j}x_2(t-j)+E_2(t)$$\n",
    "\n",
    "where $p$ is the maximum number of lagged observations, the matrix $A$ contains the coefficients of the model (contributions of each lagged observation on the predicted values of $x_1(t)$ and $E$ are the residuals for each time series\n",
    "\n",
    "if the variance of $E_1$ is reduced by the inclusino of $x_2$ then $x_2$ granger-causes $x_1$\n",
    "\n",
    "if the coefficients in $A_{12}$ are jointly significantly different from $0$ (tested with F-test with null $A_{12}=0$)\n",
    "\n",
    "assumptions:\n",
    "1. data is covariance stationary\n",
    "2. data can be adequately described by linear models\n",
    "\n",
    "problems:\n",
    "1. linear models\n",
    "2. latent cofounders"
   ],
   "metadata": {
    "collapsed": false
   }
  },
  {
   "cell_type": "code",
   "execution_count": 2,
   "outputs": [
    {
     "name": "stdout",
     "output_type": "stream",
     "text": [
      "\n",
      "Granger Causality\n",
      "number of lags (no zero) 1\n",
      "ssr based F test:         F=28.7248 , p=0.0000  , df_denom=198, df_num=1\n",
      "ssr based chi2 test:   chi2=29.1600 , p=0.0000  , df=1\n",
      "likelihood ratio test: chi2=27.2295 , p=0.0000  , df=1\n",
      "parameter F test:         F=28.7248 , p=0.0000  , df_denom=198, df_num=1\n",
      "\n",
      "Granger Causality\n",
      "number of lags (no zero) 2\n",
      "ssr based F test:         F=18.9880 , p=0.0000  , df_denom=195, df_num=2\n",
      "ssr based chi2 test:   chi2=38.9498 , p=0.0000  , df=2\n",
      "likelihood ratio test: chi2=35.5873 , p=0.0000  , df=2\n",
      "parameter F test:         F=18.9880 , p=0.0000  , df_denom=195, df_num=2\n",
      "\n",
      "Granger Causality\n",
      "number of lags (no zero) 3\n",
      "ssr based F test:         F=13.5015 , p=0.0000  , df_denom=192, df_num=3\n",
      "ssr based chi2 test:   chi2=41.9812 , p=0.0000  , df=3\n",
      "likelihood ratio test: chi2=38.0914 , p=0.0000  , df=3\n",
      "parameter F test:         F=13.5015 , p=0.0000  , df_denom=192, df_num=3\n",
      "\n",
      "Granger Causality\n",
      "number of lags (no zero) 4\n",
      "ssr based F test:         F=10.9646 , p=0.0000  , df_denom=189, df_num=4\n",
      "ssr based chi2 test:   chi2=45.9467 , p=0.0000  , df=4\n",
      "likelihood ratio test: chi2=41.3192 , p=0.0000  , df=4\n",
      "parameter F test:         F=10.9646 , p=0.0000  , df_denom=189, df_num=4\n"
     ]
    }
   ],
   "source": [
    "#granger causality of 2 time series to see ifdata in column 2 granger causes column 1\n",
    "import statsmodels.api as sm\n",
    "from statsmodels.tsa.stattools import  grangercausalitytests\n",
    "import numpy as np\n",
    "data = sm.datasets.macrodata.load_pandas()\n",
    "data = data.data[[\"realgdp\", \"realcons\"]].pct_change().dropna()\n",
    "\n",
    "gc = grangercausalitytests(data, maxlag=4)"
   ],
   "metadata": {
    "collapsed": false,
    "pycharm": {
     "name": "#%%\n"
    }
   }
  },
  {
   "cell_type": "code",
   "execution_count": null,
   "outputs": [],
   "source": [],
   "metadata": {
    "collapsed": false,
    "pycharm": {
     "name": "#%%\n"
    }
   }
  }
 ],
 "metadata": {
  "kernelspec": {
   "display_name": "Python 3",
   "language": "python",
   "name": "python3"
  },
  "language_info": {
   "codemirror_mode": {
    "name": "ipython",
    "version": 2
   },
   "file_extension": ".py",
   "mimetype": "text/x-python",
   "name": "python",
   "nbconvert_exporter": "python",
   "pygments_lexer": "ipython2",
   "version": "2.7.6"
  }
 },
 "nbformat": 4,
 "nbformat_minor": 0
}