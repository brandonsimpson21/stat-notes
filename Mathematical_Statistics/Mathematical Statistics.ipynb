{
 "cells": [
  {
   "cell_type": "code",
   "execution_count": null,
   "metadata": {
    "collapsed": true
   },
   "outputs": [],
   "source": [
    "\n"
   ]
  },
  {
   "cell_type": "markdown",
   "source": [
    "## T Distribution\n",
    "\n",
    "Let $w \\sim \\mathcal{N}(0,1)$ and $v \\sim \\mathcal{\\chi}^2(r)$ where $v$ and $w$ are independent\n",
    "\n",
    "$$t = \\frac{w}{\\sqrt{\\frac{v}{r}}}$$\n",
    "\n",
    "find the joint distribution of $t$ and $u=v$ integerate out $u$  its a transformation problem\n",
    "\n",
    "$$f_t(t)=\\frac{\\Gamma\\left(\\frac{r+1}{2}\\right)}{\\sqrt{\\pi r} \\;\\Gamma\\left(\\frac{r}{2}\\right)} \\frac{1}{\\left(1+ \\frac{t^2}{r}\\right)^{\\frac{r+1}{2}}}$$ where $E[t]=0$ and $r>1$\n",
    "\n",
    "$$var(t) = \\frac{r}{r-2}$$ provided $r>2$"
   ],
   "metadata": {
    "collapsed": false,
    "pycharm": {
     "name": "#%% md\n"
    }
   }
  },
  {
   "cell_type": "markdown",
   "source": [
    "## F Distribution\n",
    "\n",
    "\n",
    "let $u,v$ be independent rv's with $df=r_1,r_2$\n",
    "\n",
    "$$F = \\frac{\\frac{u}{r_1}}{\\frac{v}{r_2}} \\sim F(r_1,r_2)$$\n",
    "\n",
    "where $E[F]=\\frac{r_1}{r_2-2}$ where $r_2>2$\n",
    "\n",
    "$var[f] = \\frac{2r_2^2(r_1+r_2-2)}{r_1(r_2-2)^2(r_2-4)}$ where $r_2>4$"
   ],
   "metadata": {
    "collapsed": false,
    "pycharm": {
     "name": "#%% md\n"
    }
   }
  },
  {
   "cell_type": "markdown",
   "source": [
    "## Students Theorem\n",
    "\n",
    "recall $\\bar{x} \\sim \\mathcal{N}(\\mu,\\frac{\\sigma^2}{n})$ and $z=\\frac{x-\\mu}{\\frac{\\sigma}{\\sqrt{n}}} \\to \\frac{\\bar{x}-\\mu}{\\frac{s}{\\sqrt{n}}}$\n",
    "\n",
    "let $x_1 \\cdots x_n$ be iid $\\mathcal{N}(\\mu, \\sigma^2)$ and $s^2=\\frac{\\sum(x_i-\\bar{x})^2}{n-1}$\n",
    "\n",
    "1. $\\bar{x} \\sim \\mathcal{N}(\\mu,\\frac{\\sigma^2}{n})$ proof through mfg\n",
    "2. $\\bar{x}$ and $s^2$ are independent\n",
    "3. $\\frac{(n-1)s^2}{\\sigma^2}\\sim \\mathcal{\\chi}^2_{n-1}$\n",
    "4. $t=\\frac{\\bar{x}-\\mu}{\\frac{s}{\\sqrt{n}}} \\sim T_{n-1}$"
   ],
   "metadata": {
    "collapsed": false
   }
  },
  {
   "cell_type": "markdown",
   "source": [
    "## Correlation\n",
    "\n",
    "let $x_1 \\cdots x_n$ and $y_1 \\cdots y_n$ be rv's with well defined finite variance and $a_1\\cdots a_n$ and $b_1 \\cdots b_n$ be real constants\n",
    "\n",
    "$t=\\sum a_ix_i$ and $w=\\sum b_iy_i$ then\n",
    "\n",
    "$$cov(t,w)=\\sum_{i=1}^n\\sum_{j=1}^n a_ib_icov(x_i,y_i)$$ proof throw it into definition of covariance and use fact that expectation of sum is sum of expectation"
   ],
   "metadata": {
    "collapsed": false
   }
  },
  {
   "cell_type": "markdown",
   "source": [
    "## Unbiasdness\n",
    "a statistic is unbiased if the expected value of the statistic is $\\theta$\n",
    "\n",
    "eg $\\bar{x}$ is unbiased for $\\mu$ since $E[\\bar{x}]=\\mu$\n",
    "\n",
    "is $s^* = \\frac{\\sum(x_i-\\bar{x})}{n}$ an unbiased estimator for $\\sigma^2\n",
    "\n",
    "note:\n",
    "1. $\\sum(x_i-\\bar{x})^2=\\sum(x_i-\\bar{x})^2+n(\\bar{x}-\\mu)^2$\n",
    "2. $var(x_i)=E[(x_i-\\mu)^2=\\sigma^2$\n",
    "3. $var(\\bar{x})=E[(\\bar{x}-\\mu)^2]=\\frac{\\sigma^2}{n}$\n",
    "\n",
    "plug in for $E[s^*]$ and you get\n",
    "\n",
    "$$\\frac{n\\sigma^2-n\\frac{\\sigma^2}{n}}{n} = \\frac{(n-1)\\sigma^2}{n} \\neq \\sigma^2$$\n",
    "\n",
    "this is biased by $\\frac{n-1}{n}$ so to make $s^*$ unbiased multiply by this thats wyc $s^2$ has $n-1$ in the denominator"
   ],
   "metadata": {
    "collapsed": false,
    "pycharm": {
     "name": "#%% md\n"
    }
   }
  },
  {
   "cell_type": "markdown",
   "source": [
    "WW2 tank example: suppose you have tanks with sequential serial numbers you have a sample of them and you want to figure out how many there are total\n",
    "let $x\\sim\\mathcal{U}(0,\\theta)$ we want to estimate $\\theta$ using a random sample $x_1\\cdots x_n$\n",
    "\n",
    "naieve guess: $\\hat{\\theta}=max(x_n)$ is $\\hat{\\theta}$ unbiased?\n",
    "\n",
    "we need the pdf for $\\theta=max(x_1 \\cdots x_n)$ so we need $E[\\hat{\\theta}]$\n",
    "\n",
    "find the cdf for $\\hat{\\theta}$\n",
    "\n",
    "\\begin{align}\n",
    "f_{\\hat{\\theta}} = p(\\hat{\\theta}\\leq x)&=p(max(x_1\\cdots x_n)\\leq x)\\\\\n",
    "&=p(x_1\\leq x), x_2\\leq x , \\cdots , x_n\\leq x) \\text{since they are iid}\\\\\n",
    "&=p(x_1 \\leq x)^n\\\\\n",
    "&=\\left(\\frac{x}{\\theta}\\right)^n\n",
    "\\end{align}\n",
    "\n",
    "the pdf $f_{\\hat{\\theta}} = \\frac{n\\; x^{n-1}}{\\theta^n}$ for $0 \\leq x \\leq \\theta$\n",
    "\n",
    "\\begin{align}\n",
    "E[\\hat{\\theta}] &= \\int_0^\\theta x \\; \\frac{n\\;x^{n-1}}{\\theta^n}dx\\\\\n",
    "&=\\frac{n}{\\theta^n} \\int_0^\\theta x^n\\\\\n",
    "&=\\frac{n}{\\theta^n}\\left[\\frac{x^{n-1}}{n+1}\\right]_0^\\theta\n",
    "&=\\left(\\frac{n}{n+1}\\right)\\theta\n",
    "\\end{align}\n",
    "\n",
    "sp its not unbiased, therefore\n",
    "\n",
    "$\\hat{\\theta}^{best}=frac{n+1}{n} \\; max(x_1, \\cdots x_n)$"
   ],
   "metadata": {
    "collapsed": false
   }
  },
  {
   "cell_type": "markdown",
   "source": [
    "## Review\n",
    "\n",
    "1. Chebyshevs inequality $p(|x-\\mu|\\geq k\\sigma)\\leq \\frac{1}{k^2}$\n",
    "2. triangle inequality $|A|+|B| \\geq |A+B|$\n",
    "3. $\\epsilon, \\delta$ definition of continuity of a real function $f$ at point $a$\n",
    "\n",
    "$$\\forall \\epsilon>0 \\; \\exists \\; \\delta>0\\; \\text{st} \\;|x-a|<\\delta \\; \\text{then} \\; |f(x)-f(a)|<\\epsilon$$"
   ],
   "metadata": {
    "collapsed": false
   }
  },
  {
   "cell_type": "markdown",
   "source": [
    "## Convergence in Probability\n",
    "\n",
    "Let $\\{x_n\\}$ be a sequence of rv's defined on a sample space $s$ we say $x_n$ converges in probability to $x$ if\n",
    "\n",
    "$$\\lim_{x\\to \\inf} (|x_n-x| \\geq \\epsilon)=0$$\n",
    "\n",
    "or equivalently\n",
    "\n",
    "$$\\lim_{n\\to \\inf} p(|x_n-x| <\\epsilon)=1$$\n",
    "\n",
    "Theorem: suppose $x_n \\overset{p}{\\to}x$ and $a$ is a constant then $ax_n \\overset{p}{\\to} ax$\n",
    "\n",
    "Theorem: suppose $x_n \\overset{p}{\\to}x$ and a real function g is continuous at $a$ then $g(x_n)\\overset{p}{\\to}g(a)$\n"
   ],
   "metadata": {
    "collapsed": false
   }
  },
  {
   "cell_type": "markdown",
   "source": [
    "## Weak Law of Large Numbers\n",
    "\n",
    "Let $\\{x_n\\}$ be a sequence of rv's having common mean and variance st $\\sigma^2 < \\inf$\n",
    "and $\\bar{x_n}=\\frac{\\sum x_n}{n}$ then\n",
    "\n",
    "$$\\bar{x_n} \\overset{p}{\\to} \\mu$$\n",
    "\n",
    "proof:\n",
    "\n",
    "let $\\epsilon < 0$ be given then\n",
    "\n",
    "\n",
    "$$p(|\\bar{x}-\\mu|>\\epsilon) \\leq \\frac{\\frac{\\sigma^2}{n}}{\\epsilon} \\; \\text{by chebyshev}$$\n",
    "\n",
    "$\\lim_{n \\to \\inf} p(|\\bar{x_n} -\\mu| \\geq \\epsilon \\leq \\lim_{n \\to \\inf}\\frac{\\sigma^2}{n \\epsilon^2} =0$$$"
   ],
   "metadata": {
    "collapsed": false
   }
  },
  {
   "cell_type": "markdown",
   "source": [
    "## Consistent Estimators\n",
    "\n",
    "let $x$ be a rv with cdf $f(x,\\theta)$ let $x_1, \\cdots , x_n$ be a random sample from the distribution of $x$\n",
    "let $T_n$ be a statistic, then $t_n$ is a consistent estimator of $\\theta$ if $t_n\\overset{p}{\\to} \\theta$\n",
    "\n",
    "Theorem: let $\\{T_n\\}$ be a sequence of estimators of a parameter with MSE $E[(t_n-\\theta)^2]$ then the following are all true\n",
    "1. if $E[(t_n-\\theta)^2] \\to 0$ then $t_n$ is a consistent estimator\n",
    "2. $t_n$ is consistent if $E[t_n]\\to \\theta$ and $var(t_m)\\to 0$\n",
    "3. if $t_n$ is unbiased then $t_n$ is consistent if $var(t_n)\\to 0 \\; \\forall \\theta$"
   ],
   "metadata": {
    "collapsed": false
   }
  },
  {
   "cell_type": "markdown",
   "source": [
    "## Convergence In Distribution\n",
    "\n",
    "let $\\{x_n\\}$ be a sequence of rv's  with pdf's $F_{x_n}$ and $F_x$\n",
    "let $c(f_x)$ denote the set of all points where $F_x$ is continuous. $x_n$ converges in distribution (or law) if\n",
    "\n",
    "$$\\lim_{n\\to \\inf}F_{x_n}(x) = F_x(x) \\; \\forall \\; x \\; \\in \\; c(F_x)$$\n",
    "\n",
    "Theorem: if the sequence converges in probability then it converges in distribution\n",
    "Theorem: if sequence converges in distribution to a constant than it converges in probability to that constant\n",
    "Theorem: if $x_n \\overset{p}{\\to} x$ and $g$ is a continuous function on the support of x then $g(x_n)\\overset{D}{\\to} g(x)$"
   ],
   "metadata": {
    "collapsed": false
   }
  },
  {
   "cell_type": "markdown",
   "source": [
    "## Delta Method\n",
    "\n",
    "recall if $\\sqrt{n}(y_n-\\theta)\\sim \\mathbb{N}(0,\\sigma^2 \\implies y_n-\\theta \\sim \\mathbb{N}(0, \\frac{\\sigma^2}{n})$\n",
    "\n",
    "let $y_n$ be a rv that satisfies $\\sqrt{n}(y_n-\\theta) \\overset{D}{\\to}\\mathbb{N}(0,\\sigma^2$ then for a given function $g$ if $g(\\theta)$ exists and is not $0$\n",
    "\n",
    "$$\\sqrt{n} \\left[g(y_n)-g(\\theta)\\right] \\overset{d}{\\to} \\mathbb{N}(o, (g^\\prime(\\theta))^2\\sigma^2)$$"
   ],
   "metadata": {
    "collapsed": false
   }
  },
  {
   "cell_type": "markdown",
   "source": [
    "## Moment Generating Function\n",
    "\n",
    "the mfg for a rv $x$\n",
    "\\begin{align}\n",
    "M_x(0)&=1\\\\\n",
    "M^\\prime_x(0)&=E[x]\\\\\n",
    "M^{\\prime \\prime}_x(0)&=E[x^2]\n",
    "\\end{align}\n",
    "\n",
    "mfg of a $mathbb{N}(0,1)$\n",
    "\n",
    "$$M_z(t)=e^{\\frac{t^2}{2}}$$"
   ],
   "metadata": {
    "collapsed": false
   }
  },
  {
   "cell_type": "markdown",
   "source": [
    "fact\n",
    "\n",
    "$$\\frac{\\sum_{i=1}^nx_i-n\\mu}{\\sqrt{n}\\sigma}=\\frac{\\sum(x_i-\\mu)}{\\sqrt{n}\\sigma}=\\frac{\\sqrt{n}(\\bar{x}-\\mu)}{\\sigma}$$"
   ],
   "metadata": {
    "collapsed": false
   }
  },
  {
   "cell_type": "markdown",
   "source": [
    "## Central Limit Theorem\n",
    "\n",
    "suppose $x_1\\cdots,x_n$ are iid with mean $\\mu$ and variance $\\sigma^2<\\inf$ then\n",
    "\n",
    "$$y_n=\\frac{\\sum(x_i-\\mu)}{\\sigma\\sqrt{n}} \\overset{d}{\\to}\\mathbb{N}(0,1)$$\n",
    "\n",
    "proof through MGF\n",
    "\n",
    "for large $n$,  $\\bar{x}\\sim \\mathbb{N}(\\mu,\\frac{\\sigma^2}{n})$"
   ],
   "metadata": {
    "collapsed": false
   }
  },
  {
   "cell_type": "markdown",
   "source": [
    "## Confidence Intervals\n",
    "\n",
    "a $100(1-\\alpha$ ci for $\\theta$ is a pair of rv $t_L,t_u$ st\n",
    "\n",
    "$$p(t_l<\\theta < t_u)=1-\\alpha$$\n",
    "\n",
    "eg by students theorem $\\frac{\\bar{x}-\\mu}{\\frac{s}{\\sqrt{n}}} \\sim T_{n-1}$\n",
    "\n",
    "$$p(-t < \\frac{\\bar{x}-\\mu}{\\frac{s}{\\sqrt{n}}} <t)$$ solve for $\\mu$ in the middle and you get\n",
    "\n",
    "$$\\bar{x} \\pm t_{\\frac{\\alpha}{2}, n-1}\\frac{s}{\\sqrt{n}}$$\n",
    "\n",
    "for $\\sigma^2$\n",
    "\n",
    "$$\\frac{(n-1)s^2}{\\sigma^2} \\sim \\chi^2_u$$ by students theorem\n"
   ],
   "metadata": {
    "collapsed": false
   }
  }
 ],
 "metadata": {
  "kernelspec": {
   "display_name": "Python 3",
   "language": "python",
   "name": "python3"
  },
  "language_info": {
   "codemirror_mode": {
    "name": "ipython",
    "version": 2
   },
   "file_extension": ".py",
   "mimetype": "text/x-python",
   "name": "python",
   "nbconvert_exporter": "python",
   "pygments_lexer": "ipython2",
   "version": "2.7.6"
  }
 },
 "nbformat": 4,
 "nbformat_minor": 0
}