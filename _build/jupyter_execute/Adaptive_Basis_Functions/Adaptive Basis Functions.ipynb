{
 "cells": [
  {
   "cell_type": "code",
   "execution_count": null,
   "metadata": {
    "collapsed": true
   },
   "outputs": [],
   "source": []
  },
  {
   "cell_type": "markdown",
   "metadata": {
    "collapsed": false
   },
   "source": [
    "Adaptive basis-function Model (ABM) has the form\n",
    "\n",
    "$$f(x) = w_0 + \\sum_{m=1}^{M}w_m\\phi_m(x)$$\n",
    "\n",
    "where $\\phi_m$ is the $m^{th}$ basis function learned from the data"
   ]
  },
  {
   "cell_type": "markdown",
   "metadata": {
    "collapsed": false
   },
   "source": [
    "# Classification & Regression Trees\n",
    "\n",
    "The model is of the following form\n",
    "\n",
    "$$f(x) = E[y|x] = \\sum_{m=1}^M w_m \\mathbb{I}(x \\in R_m) = \\sum_{m=1}^Mw_m\\phi_m(x'v_m)$$\n",
    "\n",
    "where $R_m$ is the $m^{th}$ region $w_m$ is the mean response of the region and $v_m$ encodes the choice of variable to split on and threshold value on path from the root to the $m^{th}$ leaf\n",
    "\n",
    "CART is an ABM where basis functions define the regions and weights specify the respose value in each region. When classifying store the distribution over class labels in each leaf instead of the mean response.\n",
    "\n",
    "E.G see figure 16.1"
   ]
  },
  {
   "cell_type": "markdown",
   "metadata": {
    "collapsed": false,
    "pycharm": {
     "name": "#%% md\n"
    }
   },
   "source": [
    "# Growing A Tree\n",
    "\n",
    "optimal partitioning is np complete so it's common to use a greedy procedure to compute locally optimal MLE. The split function choose best feature and best value for the feature by\n",
    "\n",
    "$$(j^*,t^*) = argmin_{j \\in \\{1 \\cdots D\\}} \\; min_{t \\in \\tau_j}\\; cost(\\{x_i,y_i :x_{ij} \\leq t \\}) + cost(\\{x_i,y_i : x_{ij} >t\\})  $$\n",
    "\n",
    "its assumed all inputs are real valued or ordinal so we can compare feature $x_{ij}$ to a numeric value $t$ the set of all possible thresholds $\\tau_j$ for feature $j$ is obtained by sorting uniq values of $x_{ij}$ E.G if feature one has values $\\{4.5,-12,72,-12\\}$ then $\\tau_1 = \\{-12,4.5,72\\}$\n",
    "\n",
    "for categorical inputs consider splits of form $x_{ij} = c_k$ and $x_{ij} \\neq c_x$ for each class label $c_k$. note: could do multiway splits but often this leads to too little data in each subtree and thus overfitting\n",
    "\n",
    "Heuristics for checking if a node is worth fitting\n",
    "\n",
    "1. is the reduction in cost too small, typically the gain of using a feature is a normalized measure of the reduction in cost\n",
    "\n",
    "$$\\Delta \\triangleq cost(D) - \\left(\\frac{|D_L|}{|D|}\\;cost(D_L) + \\frac{|D_R|}{D} \\; cost(D_R)\\right)$$\n",
    "\n",
    "2. has to tree exceeded maximum desired depth\n",
    "3. is the distribution of the response in either $D_L$ or $D_k$ sufficiently homogenous EG all labels are the same\n",
    "4. is the number of examples in either $D_L$ or $D_k$ too small\n"
   ]
  },
  {
   "cell_type": "markdown",
   "metadata": {
    "collapsed": false
   },
   "source": [
    "## Regression Cost\n",
    "\n",
    "$$cost(D) = \\sum_{i \\in D} (y_i - \\bar{y})$$\n",
    "\n",
    "you could also fit a linreg model for each leaf using as inputs the features that were chosen on the path from the root then measure residual error"
   ]
  },
  {
   "cell_type": "markdown",
   "metadata": {
    "collapsed": false
   },
   "source": [
    "## Classification Cost\n",
    "\n",
    "to measure quality of a split fit a multinouli model on leaf satisfying test $ X_j <t$ by estimating class conditional probabilities\n",
    "\n",
    "$$\\hat{\\pi} = \\frac{1}{|D|} \\sum_{i \\in D} \\; \\mathbb{I}(y_i = c)$$\n",
    "where $D$ is the data in the leaf\n",
    "\n",
    "common error measures for evaluating a parititon\n",
    "1. missclassification rate define most probable class label as $\\hat{y_c}= argmax_c \\hat{\\pi_c}$ then the error rate is\n",
    "\n",
    "$$\\frac{1}{|D|} \\sum_{i \\in D} \\mathbb{I} (y_i \\neq \\hat{y}) = 1-\\hat{\\pi}_{\\hat{y}}$$\n",
    "\n",
    "2. entropy or deviance\n",
    "\n",
    "$$\\mathbb{H}(\\hat{\\pi}) = -\\sum_{c=1}^{C} \\hat{\\pi_c}log(\\hat{\\pi_c})$$\n",
    "\n",
    "minimizing entropy maximizes information gain\n",
    "\n",
    "3. Gini Index\n",
    "\n",
    "$$\\sum_{c=1}^C \\hat{\\pi_c}(1-\\hat{\\pi_c}) = 1-\\sum_c \\hat{\\pi_c}^2$$ where $\\hat{\\pi_c}$ is the pobability a random entry in a leaf belongs to class $c$\n"
   ]
  },
  {
   "cell_type": "markdown",
   "metadata": {
    "collapsed": false
   },
   "source": [
    "## Pruning a Tree\n",
    "grow a full tree then prune it, to determine how far back to prune evaluate cross-validated error on each subtree then pick the tree whose CV error is within 1 SD of the minimum"
   ]
  },
  {
   "cell_type": "markdown",
   "metadata": {
    "collapsed": false
   },
   "source": [
    "## Random Forests\n",
    "\n",
    "one way to reduce variance is to average many estimates for example grow $M$ different trees on different subsets of the data chose randomly with replacement then compute ensemble\n",
    "\n",
    "$$fx) = \\sum_{m=1}^M \\frac{1}{M} f_m(x)$$ where $f_m$ is the $m^{th}$ tree this is known as bagging\n",
    "\n",
    "runing same leaerning on different subsets results in highly correlated predictors that limits that possible variance reduction. random forests tries to decorrelate base learners by learning trees based on randomly chosen subset of input variables as well as randomly chosen subset of data cases."
   ]
  },
  {
   "cell_type": "code",
   "execution_count": 1,
   "metadata": {
    "collapsed": false,
    "pycharm": {
     "name": "#%%\n"
    }
   },
   "outputs": [],
   "source": [
    "#data import\n",
    "from sklearn import datasets\n",
    "import pandas as pd\n",
    "from sklearn.model_selection import train_test_split\n",
    "\n",
    "\n",
    "\n",
    "#load dataset convert to df\n",
    "iris = datasets.load_iris()\n",
    "data=pd.DataFrame({\n",
    "    'sepal length':iris.data[:,0],\n",
    "    'sepal width':iris.data[:,1],\n",
    "    'petal length':iris.data[:,2],\n",
    "    'petal width':iris.data[:,3],\n",
    "    'species':iris.target\n",
    "})\n",
    "\n",
    "#set features labes train test split\n",
    "X=data[['sepal length', 'sepal width', 'petal length', 'petal width']]  # Features\n",
    "y=data['species']  # Labels\n",
    "X_train, X_test, y_train, y_test = train_test_split(X, y, test_size=0.25)"
   ]
  },
  {
   "cell_type": "code",
   "execution_count": null,
   "metadata": {
    "collapsed": false,
    "pycharm": {
     "name": "#%%\n"
    }
   },
   "outputs": [],
   "source": []
  },
  {
   "cell_type": "code",
   "execution_count": 2,
   "metadata": {
    "collapsed": false,
    "pycharm": {
     "name": "#%%\n"
    }
   },
   "outputs": [],
   "source": [
    "#fit random forest classifier\n",
    "from sklearn.ensemble import RandomForestClassifier\n",
    "rfc=RandomForestClassifier(n_estimators=100)\n",
    "rfc.fit(X_train,y_train)\n",
    "y_pred=rfc.predict(X_test)"
   ]
  },
  {
   "cell_type": "code",
   "execution_count": 3,
   "metadata": {
    "collapsed": false,
    "pycharm": {
     "name": "#%%\n"
    }
   },
   "outputs": [
    {
     "name": "stdout",
     "output_type": "stream",
     "text": [
      "Accuracy: 0.9736842105263158\n"
     ]
    }
   ],
   "source": [
    "#test accuracy\n",
    "from sklearn import metrics\n",
    "print(\"Accuracy:\",metrics.accuracy_score(y_test, y_pred))\n"
   ]
  },
  {
   "cell_type": "code",
   "execution_count": 4,
   "metadata": {
    "collapsed": false,
    "pycharm": {
     "name": "#%%\n"
    }
   },
   "outputs": [
    {
     "data": {
      "text/plain": [
       "'virginica'"
      ]
     },
     "execution_count": 4,
     "metadata": {},
     "output_type": "execute_result"
    }
   ],
   "source": [
    "#make prediction\n",
    "species_idx = rfc.predict([[3, 5, 4, 2]])[0]\n",
    "iris.target_names[species_idx]"
   ]
  },
  {
   "cell_type": "code",
   "execution_count": 5,
   "metadata": {
    "collapsed": false,
    "pycharm": {
     "name": "#%%\n"
    }
   },
   "outputs": [
    {
     "name": "stderr",
     "output_type": "stream",
     "text": [
      "No handles with labels found to put in legend.\n"
     ]
    },
    {
     "data": {
      "text/plain": [
       "<matplotlib.legend.Legend at 0x7fa7d7610d50>"
      ]
     },
     "execution_count": 5,
     "metadata": {},
     "output_type": "execute_result"
    },
    {
     "data": {
      "image/png": "[encoded data removed]",
      "text/plain": [
       "<Figure size 432x288 with 1 Axes>"
      ]
     },
     "metadata": {
      "filenames": {
       "image/png": "/media/brandon/Storehouse/stat-notes/_build/jupyter_execute/Adaptive_Basis_Functions/Adaptive Basis Functions_13_2.png"
      },
      "needs_background": "light"
     },
     "output_type": "display_data"
    }
   ],
   "source": [
    "#look at feature importance\n",
    "%matplotlib inline\n",
    "import matplotlib.pyplot as plt\n",
    "import seaborn as sns\n",
    "\n",
    "feature_imp = pd.Series(rfc.feature_importances_,index=iris.feature_names)\n",
    "sns.barplot(x=feature_imp, y=feature_imp.index)\n",
    "plt.xlabel('Feature Importance Score')\n",
    "plt.ylabel('Features')\n",
    "plt.title(\"Visualizing Important Features\")\n",
    "plt.legend()"
   ]
  },
  {
   "cell_type": "code",
   "execution_count": null,
   "metadata": {
    "collapsed": false,
    "pycharm": {
     "name": "#%%\n"
    }
   },
   "outputs": [],
   "source": [
    "\n"
   ]
  },
  {
   "cell_type": "code",
   "execution_count": null,
   "metadata": {
    "collapsed": false,
    "pycharm": {
     "name": "#%%\n"
    }
   },
   "outputs": [],
   "source": [
    "\n",
    "\n"
   ]
  }
 ],
 "metadata": {
  "kernelspec": {
   "display_name": "Python 3",
   "language": "python",
   "name": "python3"
  },
  "language_info": {
   "codemirror_mode": {
    "name": "ipython",
    "version": 3
   },
   "file_extension": ".py",
   "mimetype": "text/x-python",
   "name": "python",
   "nbconvert_exporter": "python",
   "pygments_lexer": "ipython3",
   "version": "3.7.9"
  }
 },
 "nbformat": 4,
 "nbformat_minor": 0
}