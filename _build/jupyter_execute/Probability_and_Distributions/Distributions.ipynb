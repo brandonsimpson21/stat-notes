{
 "cells": [
  {
   "cell_type": "code",
   "execution_count": null,
   "metadata": {
    "collapsed": true
   },
   "outputs": [],
   "source": []
  },
  {
   "cell_type": "markdown",
   "metadata": {
    "collapsed": false
   },
   "source": [
    "## Binomial And Bernoulli Distributions\n",
    "suppose we toss a coin $n$ times let $x \\in \\{0, \\cdots ,n\\}$ be the number of heads. if the probability of heads is $\\theta$ then $X$ has a binomial distribution denoted $X \\sim Bin(n,\\theta)$\n",
    "\n",
    "$$Bin(k|n,\\theta) \\triangleq {n \\choose k} \\theta^k(1-\\theta)^{n-k}$$\n",
    "\n",
    "Where ${n \\choose k} \\triangleq \\frac{n!}{(n-k)!k!}$ is the number of ways to choose $k$ items from $n$"
   ]
  },
  {
   "cell_type": "markdown",
   "metadata": {
    "collapsed": false
   },
   "source": [
    "## Multinomial\n",
    "\n",
    "to model outcomes of tossing k-sided die, let $x=(x_1, \\cdots ,x_K)$ be a random vector where $x_j$ is the number of times side $j$ occurs\n",
    "\n",
    "$$mu(x|n\\theta) \\triangleq {n \\choose x_1,\\cdots x_K}\\prod_{j=1}^K\\theta_j^{x_j}$$\n",
    "\n",
    "if we one hot encode the states the pmf becomes\n",
    "\n",
    "$$mu(x|1,\\theta)\\triangleq \\prod_{j=1}^K\\theta_j^{\\mathbb{I}(x_j=1)}$$\n",
    "\n",
    "which we denote $Cat(x|\\theta)$"
   ]
  },
  {
   "cell_type": "markdown",
   "metadata": {
    "collapsed": false
   },
   "source": [
    "## Poisson\n",
    "often used for modeling counts of rare events.\n",
    "\n",
    "$x\\in\\{0,1,2,\\cdots\\}$ has a poisson distribution with paramter $\\lambda > o$\n",
    "\n",
    "$$Poi(x|\\lambda)= e^{-\\lambda}\\frac{\\lambda^x}{x!}$$"
   ]
  }
 ],
 "metadata": {
  "kernelspec": {
   "display_name": "Python 3",
   "language": "python",
   "name": "python3"
  },
  "language_info": {
   "codemirror_mode": {
    "name": "ipython",
    "version": 3
   },
   "file_extension": ".py",
   "mimetype": "text/x-python",
   "name": "python",
   "nbconvert_exporter": "python",
   "pygments_lexer": "ipython3",
   "version": "3.7.9"
  }
 },
 "nbformat": 4,
 "nbformat_minor": 0
}