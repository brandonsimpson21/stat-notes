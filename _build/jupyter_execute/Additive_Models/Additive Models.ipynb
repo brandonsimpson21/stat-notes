{
 "cells": [
  {
   "cell_type": "code",
   "execution_count": null,
   "metadata": {
    "collapsed": true
   },
   "outputs": [],
   "source": []
  },
  {
   "cell_type": "markdown",
   "metadata": {
    "collapsed": false
   },
   "source": [
    "# Generalized Additive Models\n",
    "\n",
    "has the form\n",
    "\n",
    "$$f(x) - \\alpha + f_1(x_1) + \\cdots + f_D(x_D)$$\n",
    "\n",
    "each $f_j$ can be modeled by some scatterplot smoother and $f(x)$ can be mapped to $p(y|x)$ using a link function\n",
    "\n",
    "it is typical to use smoothing splines for $f_j$ in this case the objective becomes\n",
    "\n",
    "$$J(\\alpha, f_1, \\cdots , f_d) = \\sum_{i=1}^N \\left(y_i - \\alpha - \\sum_{j=1}^D f_j(x_{ij}) \\right)^2 + \\sum_{j=1}^D \\lambda_j \\int f_j^{''}(t_j)^2dt_j$$ where $\\lambda_j$ is the strength of the regularizer for $f_j$\n"
   ]
  }
 ],
 "metadata": {
  "kernelspec": {
   "display_name": "Python 3",
   "language": "python",
   "name": "python3"
  },
  "language_info": {
   "codemirror_mode": {
    "name": "ipython",
    "version": 3
   },
   "file_extension": ".py",
   "mimetype": "text/x-python",
   "name": "python",
   "nbconvert_exporter": "python",
   "pygments_lexer": "ipython3",
   "version": "3.7.9"
  }
 },
 "nbformat": 4,
 "nbformat_minor": 0
}