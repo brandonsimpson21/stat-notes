{
 "cells": [
  {
   "cell_type": "code",
   "execution_count": null,
   "outputs": [],
   "source": [],
   "metadata": {
    "collapsed": false,
    "pycharm": {
     "name": "#%%\n"
    }
   }
  },
  {
   "cell_type": "markdown",
   "source": [
    "Latent Variable Models assume that the observed variables are correlated because they arise from a hidden common 'cause' and have two main advantages\n",
    "\n",
    "1. they often have fewer parameters than models that directly represent correlation in the visible space\n",
    "\n",
    "2. serve as a bottleneck which computes a compressed representation of the data\n",
    "\n",
    "The simplest form is when $z_i \\in \\{1, \\cdots , K\\}$ represents the discrete latent state using a discrete prior $p(z_i)=Cat(\\pi)$ and a liklihood $p(x_i|z_i=k)=p_k(x_i)$ where $p_k$ is the $k^{th}$ base distribution we mix together $K$ base distributions as follows\n",
    "\n",
    "$$p(x_i|\\theta)=\\sum_{k=1}^K\\pi_k\\;p_k(x_i|\\theta)$$\n",
    "\n",
    "where $0<\\pi_k<1$ and  $\\sum_{k=1}^K\\pi_k=1$"
   ],
   "metadata": {
    "collapsed": false,
    "pycharm": {
     "name": "#%% md\n"
    }
   }
  },
  {
   "cell_type": "markdown",
   "source": [
    "## Mixture of Gaussians\n",
    "\n",
    "the most common mixutre model is a multivariate gaussian (GMM) with mean $\\mu_k$ and covariance matrix $\\Sigma_k$ the model has the form\n",
    "\n",
    "$$p(x_i|\\theta)=\\sum_{k=1}^K\\pi_k\\; \\mathcal{N}(x_i|\\mu_k,\\Sigma_k)$$\n",
    "\n"
   ],
   "metadata": {
    "collapsed": false
   }
  }
 ],
 "metadata": {
  "kernelspec": {
   "display_name": "Python 3",
   "language": "python",
   "name": "python3"
  },
  "language_info": {
   "codemirror_mode": {
    "name": "ipython",
    "version": 2
   },
   "file_extension": ".py",
   "mimetype": "text/x-python",
   "name": "python",
   "nbconvert_exporter": "python",
   "pygments_lexer": "ipython2",
   "version": "2.7.6"
  }
 },
 "nbformat": 4,
 "nbformat_minor": 0
}